{
 "cells": [
  {
   "cell_type": "markdown",
   "metadata": {},
   "source": [
    "## Flurry number 2 - Carlando!\n",
    "\n",
    "2020 was an amazing year to watch Forumla 1 for the first time. McLaren quickly stood out to me as my favorite team, with their laid back drivers and brilliant social media presence. But while their drivers Carlos Sainz and Lando Norris are good friends on and off track, it's time to see who stood out more this year, despite both of them having fantastic performances this year. We'll take a look at data from qualifying, races, and hopefully (if the F1 API allows it) lap times."
   ]
  },
  {
   "cell_type": "code",
   "execution_count": 1,
   "metadata": {},
   "outputs": [],
   "source": [
    "import numpy as np\n",
    "import pandas as pd\n",
    "import requests"
   ]
  },
  {
   "cell_type": "code",
   "execution_count": null,
   "metadata": {},
   "outputs": [],
   "source": []
  }
 ],
 "metadata": {
  "kernelspec": {
   "display_name": "Python 3",
   "language": "python",
   "name": "python3"
  },
  "language_info": {
   "codemirror_mode": {
    "name": "ipython",
    "version": 3
   },
   "file_extension": ".py",
   "mimetype": "text/x-python",
   "name": "python",
   "nbconvert_exporter": "python",
   "pygments_lexer": "ipython3",
   "version": "3.8.6"
  }
 },
 "nbformat": 4,
 "nbformat_minor": 4
}
